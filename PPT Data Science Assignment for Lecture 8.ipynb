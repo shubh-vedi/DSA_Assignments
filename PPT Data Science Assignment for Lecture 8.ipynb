{
 "cells": [
  {
   "cell_type": "markdown",
   "id": "25deec79",
   "metadata": {},
   "source": [
    "\n",
    "## Email: `gl0427@myamu.ac.in`\n",
    "\n",
    "# Pre-Placement Training Assignment - `Data Science` "
   ]
  },
  {
   "cell_type": "markdown",
   "id": "ba877639",
   "metadata": {},
   "source": [
    "**Q1.\tChoose a project from an internship portal and try to write a HLD and LLD based on the sample given in your portal for a respective project.**"
   ]
  },
  {
   "cell_type": "markdown",
   "id": "49b7c27c",
   "metadata": {},
   "source": [
    "# [HLD Link](https://github.com/shubh-vedi/Backorder_prediction_Project/blob/main/Documents/Backorder%20HLD%20V1.0.pdf)"
   ]
  },
  {
   "cell_type": "markdown",
   "id": "58bb9e84",
   "metadata": {},
   "source": [
    "# [LLD Link](https://github.com/shubh-vedi/Backorder_prediction_Project/blob/main/Documents/LOW%20LEVEL%20DESIGN.pdf)"
   ]
  },
  {
   "cell_type": "code",
   "execution_count": null,
   "id": "55b6f92b",
   "metadata": {},
   "outputs": [],
   "source": []
  }
 ],
 "metadata": {
  "kernelspec": {
   "display_name": "Python 3 (ipykernel)",
   "language": "python",
   "name": "python3"
  },
  "language_info": {
   "codemirror_mode": {
    "name": "ipython",
    "version": 3
   },
   "file_extension": ".py",
   "mimetype": "text/x-python",
   "name": "python",
   "nbconvert_exporter": "python",
   "pygments_lexer": "ipython3",
   "version": "3.9.13"
  },
  "latex_envs": {
   "LaTeX_envs_menu_present": true,
   "autoclose": false,
   "autocomplete": true,
   "bibliofile": "biblio.bib",
   "cite_by": "apalike",
   "current_citInitial": 1,
   "eqLabelWithNumbers": true,
   "eqNumInitial": 1,
   "hotkeys": {
    "equation": "Ctrl-E",
    "itemize": "Ctrl-I"
   },
   "labels_anchors": false,
   "latex_user_defs": false,
   "report_style_numbering": false,
   "user_envs_cfg": false
  },
  "nbTranslate": {
   "displayLangs": [
    "*"
   ],
   "hotkey": "alt-t",
   "langInMainMenu": true,
   "sourceLang": "en",
   "targetLang": "fr",
   "useGoogleTranslate": true
  },
  "toc": {
   "base_numbering": 1,
   "nav_menu": {},
   "number_sections": true,
   "sideBar": true,
   "skip_h1_title": false,
   "title_cell": "Table of Contents",
   "title_sidebar": "Contents",
   "toc_cell": false,
   "toc_position": {},
   "toc_section_display": true,
   "toc_window_display": false
  },
  "varInspector": {
   "cols": {
    "lenName": 16,
    "lenType": 16,
    "lenVar": 40
   },
   "kernels_config": {
    "python": {
     "delete_cmd_postfix": "",
     "delete_cmd_prefix": "del ",
     "library": "var_list.py",
     "varRefreshCmd": "print(var_dic_list())"
    },
    "r": {
     "delete_cmd_postfix": ") ",
     "delete_cmd_prefix": "rm(",
     "library": "var_list.r",
     "varRefreshCmd": "cat(var_dic_list()) "
    }
   },
   "types_to_exclude": [
    "module",
    "function",
    "builtin_function_or_method",
    "instance",
    "_Feature"
   ],
   "window_display": false
  }
 },
 "nbformat": 4,
 "nbformat_minor": 5
}
